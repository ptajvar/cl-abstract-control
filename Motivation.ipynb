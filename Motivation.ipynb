{
 "cells": [
  {
   "cell_type": "code",
   "execution_count": 1,
   "metadata": {},
   "outputs": [],
   "source": [
    "import numpy as np\n",
    "from dynamics_library import SampleAndHold, PendulumCartContinuous, DoubleIntegrator\n",
    "from copy import copy, deepcopy\n",
    "import matplotlib\n",
    "import matplotlib.pyplot as plt\n",
    "import zonotope_lib as ztp\n",
    "import pwa_lib as pwa\n",
    "import matplotlib.animation as animation\n",
    "import time\n",
    "import pickle"
   ]
  },
  {
   "cell_type": "markdown",
   "metadata": {},
   "source": [
    "# Tool classes"
   ]
  },
  {
   "cell_type": "code",
   "execution_count": 2,
   "metadata": {},
   "outputs": [],
   "source": [
    "class StateImage():\n",
    "    def __init__(self, range: np.ndarray, resolution: np.ndarray):\n",
    "        self.range = copy(range)\n",
    "        self.resolution = copy(resolution)\n",
    "        map_size = tuple((np.diff(range) / self.resolution + 1).reshape(2,).astype(int).tolist())\n",
    "        self.map = np.zeros(map_size)\n",
    "        self.map_size = np.array(map_size).reshape(2, 1)\n",
    "\n",
    "    def state2image(self, range):\n",
    "        relative_range = range - self.range[:, 0:1]\n",
    "        return relative_range / self.resolution\n",
    "\n",
    "    def get_patch(self, state_range):\n",
    "        image_range = self.state2image(state_range)\n",
    "        image_range[:, 0] = np.floor(image_range[:, 0])\n",
    "        image_range[:, 1] = np.ceil(image_range[:, 1])\n",
    "        image_range = np.maximum(image_range, np.zeros((2, 1)))\n",
    "        image_range = np.minimum(image_range, self.map_size - 1)\n",
    "        image_range = image_range.astype(int)\n",
    "        if np.any(image_range[:, 0] == image_range[:, 1]):\n",
    "            return None\n",
    "        row_id = list(range(image_range[0, 0], image_range[0, 1] + 1))\n",
    "        col_id = list(range(image_range[1, 0], image_range[1, 1] + 1))\n",
    "\n",
    "        return self.map[np.ix_(row_id, col_id)]\n",
    "\n",
    "    def set_patch(self, state_range, value):\n",
    "        image_range = self.state2image(state_range)\n",
    "        image_range[:, 0] = np.ceil(image_range[:, 0])\n",
    "        image_range[:, 1] = np.floor(image_range[:, 1])\n",
    "        image_range = np.maximum(image_range, np.zeros((2, 1)))\n",
    "        image_range = np.minimum(image_range, self.map_size)\n",
    "        image_range = image_range.astype(int)\n",
    "        if np.any(image_range[:, 0] == image_range[:, 1]):\n",
    "            return None\n",
    "        row_id = list(range(image_range[0, 0], image_range[0, 1] + 1))\n",
    "        col_id = list(range(image_range[1, 0], image_range[1, 1] + 1))\n",
    "\n",
    "        self.map[np.ix_(row_id, col_id)] = value\n",
    "\n",
    "class WinSetCheck():\n",
    "    def __init__(self, state_range, resolution):\n",
    "        self.winset = StateImage(state_range, resolution)\n",
    "\n",
    "    def is_included(self, box: ztp.Box):\n",
    "        state_range = box.get_range()\n",
    "        state_patch = self.winset.get_patch(state_range)\n",
    "        if state_patch is not None and np.all(state_patch > 0):\n",
    "            return True\n",
    "        return False\n",
    "\n",
    "    def intersects(self, box: ztp.Box):\n",
    "        state_range = box.get_range()\n",
    "        state_patch = self.winset.get_patch(state_range)\n",
    "        if state_patch is not None and np.any(state_patch > 0):\n",
    "            return True\n",
    "        return False\n",
    "\n",
    "class FeedbackReachSetComp:\n",
    "    def __init__(self, system: pwa.AffineSys, feedback_rule, input_box: ztp.Box, input_budget: float):\n",
    "        assert input_budget > 0\n",
    "        assert feedback_rule.shape == (input_box.ndim, system.W.ndim)\n",
    "        self.system = deepcopy(system)\n",
    "        self.feedback_rule = feedback_rule\n",
    "        self.input_box = input_box\n",
    "        self.budget = input_budget\n",
    "\n",
    "    def __call__(self, state_box: ztp.Box, input):\n",
    "        input_usage = np.abs(self.feedback_rule) @ state_box.get_bounding_box_size()\n",
    "        input_usage = np.max(input_usage / self.input_box.get_bounding_box_size())\n",
    "        if input_usage > self.budget:\n",
    "            temp_fdb = self.budget / input_usage * self.feedback_rule\n",
    "        else:\n",
    "            temp_fdb = self.feedback_rule\n",
    "        reachset = self.system.compute_reachable_set_cl(temp_fdb, state_box, input)\n",
    "        return reachset"
   ]
  },
  {
   "cell_type": "markdown",
   "metadata": {},
   "source": [
    "# Defining the system"
   ]
  },
  {
   "cell_type": "code",
   "execution_count": 3,
   "metadata": {},
   "outputs": [
    {
     "name": "stdout",
     "output_type": "stream",
     "text": [
      "Using license file /home/pouria/gurobi.lic\n",
      "Academic license - for non-commercial use only\n"
     ]
    }
   ],
   "source": [
    "f = DoubleIntegrator()\n",
    "sample_time = 1\n",
    "F = SampleAndHold(continuous_function=f, sample_time=sample_time, discretization_step=0.01)\n",
    "input_min = -1\n",
    "input_max = -input_min\n",
    "input_box = ztp.Box(np.array([[input_min, input_max]]))\n",
    "theta_min = -0.5\n",
    "theta_max = 0.5\n",
    "theta_dot_min = -0.5\n",
    "theta_dot_max = 0.5\n",
    "n_steps = 2\n",
    "input_box_multistep = ztp.Box(np.tile(np.array([[2*input_min, 2*input_max]]), (n_steps, 1)))\n",
    "state_box = ztp.Box(np.array([[theta_min, theta_max], [theta_dot_min, theta_dot_max]]))\n",
    "affine_dynamics = pwa.get_affine_dynamics(F, state_box, input_box)\n",
    "affine_multi_dynamics = pwa.compute_multistep_affine_dynamics(F, n_steps, state_box, input_box)\n",
    "success, feedback_rule, input_usage, _ = pwa.synthesize_controller(affine_multi_dynamics, state_box, input_box,\n",
    "                                                                   affine_multi_dynamics.W.get_bounding_box().minkowski_sum(0.0001*state_box),\n",
    "                                                                   unbounded=True)"
   ]
  },
  {
   "cell_type": "markdown",
   "metadata": {},
   "source": [
    "# Getting the reachable sets with and without feedback"
   ]
  },
  {
   "cell_type": "code",
   "execution_count": 4,
   "metadata": {},
   "outputs": [
    {
     "data": {
      "image/png": "[encoded data removed]",
      "text/plain": [
       "<Figure size 432x288 with 1 Axes>"
      ]
     },
     "metadata": {
      "needs_background": "light"
     },
     "output_type": "display_data"
    }
   ],
   "source": [
    "## Without feedback\n",
    "\n",
    "input_list = list(np.arange(input_min, input_max+0.5, 0.5))\n",
    "reachset_func = lambda x, u: affine_dynamics.compute_reachable_set(x, u)\n",
    "reach_1 = reachset_func(state_box, input_list[-2])\n",
    "reach_2 = reachset_func(reach_1, input_list[-2])\n",
    "ztp.plot_zonotope(state_box, 'grey', fill=True)\n",
    "ztp.plot_zonotope(reach_2,'palegreen', fill=True)\n",
    "\n",
    "## With feedback\n",
    "input_list = list(np.tile(np.arange(input_min, input_max + 0.5, 0.5),(n_steps,1)).T)\n",
    "reachset_func = FeedbackReachSetComp(affine_multi_dynamics, feedback_rule, input_box_multistep, input_budget=0.5)\n",
    "reach_2 = reachset_func(state_box, input_list[-2])\n",
    "ztp.plot_zonotope(reach_2,'darkgreen', fill=True)\n",
    "\n",
    "## Grid\n",
    "for x in np.arange(-0.5,3.5,1):\n",
    "    plt.plot([x, x],[-0.5, 2.5], 'k')\n",
    "for y in np.arange(-0.5,3.5,1):\n",
    "    plt.plot([-0.5, 2.5],[y, y], 'k')\n",
    "    \n",
    "plt.xlabel('$x$', fontsize=30)\n",
    "plt.ylabel('$\\dot{x}$', fontsize=30)\n",
    "ax = plt.gca()\n",
    "for tick in ax.xaxis.get_major_ticks():\n",
    "                tick.label.set_fontsize(20) \n",
    "for tick in ax.yaxis.get_major_ticks():\n",
    "                tick.label.set_fontsize(20) \n",
    "plt.savefig('feed_vs_nofeed_reachset.pdf', bbox_inches='tight')"
   ]
  },
  {
   "cell_type": "markdown",
   "metadata": {},
   "source": [
    "# Computing backward reachable set, with and without feedback"
   ]
  },
  {
   "cell_type": "code",
   "execution_count": 5,
   "metadata": {},
   "outputs": [
    {
     "name": "stdout",
     "output_type": "stream",
     "text": [
      "synthesis time: 30.990239143371582\n",
      "synthesis time: 80.00607943534851\n",
      "synthesis time: 4.891470909118652\n"
     ]
    },
    {
     "data": {
      "image/png": "[encoded data removed]",
      "text/plain": [
       "<Figure size 432x288 with 1 Axes>"
      ]
     },
     "metadata": {
      "needs_background": "light"
     },
     "output_type": "display_data"
    }
   ],
   "source": [
    "theta_min = -4\n",
    "theta_max = 4\n",
    "theta_dot_min = -4\n",
    "theta_dot_max = 4\n",
    "state_box = ztp.Box(np.array([[theta_min, theta_max], [theta_dot_min, theta_dot_max]]))\n",
    "\n",
    "target = ztp.Box(np.array([[-.2, .2],[-.2, .2]]))\n",
    "winning_check = WinSetCheck(state_box.get_range(), np.array([[0.01],[0.01]]))\n",
    "winning_check.winset.set_patch(target.get_range(), 1)\n",
    "\n",
    "cells = pwa.StateCell(state_box.get_range())\n",
    "input_list = list(np.arange(input_min, input_max, 0.02))\n",
    "\n",
    "check_include = winning_check.is_included\n",
    "check_intersect = winning_check.intersects\n",
    "\n",
    "reachset_func = lambda x, u: affine_dynamics.compute_reachable_set(x, u)\n",
    "iterations = 2\n",
    "# cells = H.state_cell.get_bare_copy()\n",
    "cells = pwa.StateCell(state_box.get_range())\n",
    "target_list = [target]\n",
    "colors = ['g', 'y', 'k', 'r', 'b']\n",
    "tot_time = time.time()\n",
    "ztp.plot_zonotope(target)\n",
    "\n",
    "    \n",
    "\n",
    "for i in range(iterations):\n",
    "    start_time = time.time()\n",
    "    cells = pwa.compute_pre_rocs(reachset_func, cells, input_list, check_include, check_intersect)\n",
    "    print(\"synthesis time: {}\".format(time.time() - start_time))\n",
    "    cell_list = [cells]\n",
    "    while cell_list:\n",
    "        cell = cell_list.pop(0)\n",
    "        assert isinstance(cell, pwa.StateCell)\n",
    "        if cell.is_winning:\n",
    "            ztp.plot_zonotope(cell.as_box(), color='g', fill=False)\n",
    "            winning_check.winset.set_patch(cell.as_box().get_range(), 1)\n",
    "        elif cell.children:\n",
    "            cell_list += cell.children\n",
    "            \n",
    "input_list = list(np.tile(np.arange(0.5*input_min, 0.5*input_max, 0.02),(n_steps,1)).T)\n",
    "winning_check = WinSetCheck(state_box.get_range(), np.array([[0.01],[0.01]]))\n",
    "winning_check.winset.set_patch(target.get_range(), 1)\n",
    "check_include = winning_check.is_included\n",
    "check_intersect = winning_check.intersects\n",
    "input_box_multistep = ztp.Box(np.tile(np.array([[input_min, input_max]]), (n_steps, 1)))\n",
    "reachset_func = FeedbackReachSetComp(affine_multi_dynamics, feedback_rule, input_box_multistep, input_budget=0.5)\n",
    "cells = pwa.StateCell(state_box.get_range())\n",
    "start_time = time.time()\n",
    "cells = pwa.compute_pre_rocs(reachset_func, cells, input_list, check_include, check_intersect)\n",
    "print(\"synthesis time: {}\".format(time.time() - start_time))\n",
    "cell_list = [cells]\n",
    "while cell_list:\n",
    "    cell = cell_list.pop(0)\n",
    "    assert isinstance(cell, pwa.StateCell)\n",
    "    if cell.is_winning:\n",
    "        ztp.plot_zonotope(cell.as_box(), color='b', fill=False, linewidth=5)\n",
    "    elif cell.children:\n",
    "        cell_list += cell.children\n",
    "plt.xlabel('$x$', fontsize=30)\n",
    "plt.ylabel('$\\dot{x}$', fontsize=30)\n",
    "ax = plt.gca()\n",
    "for tick in ax.xaxis.get_major_ticks():\n",
    "                tick.label.set_fontsize(20) \n",
    "for tick in ax.yaxis.get_major_ticks():\n",
    "                tick.label.set_fontsize(20) \n",
    "plt.savefig('feed_vs_nofeed_backreach.pdf', bbox_inches='tight')"
   ]
  },
  {
   "cell_type": "code",
   "execution_count": 26,
   "metadata": {},
   "outputs": [
    {
     "data": {
      "text/plain": [
       "<Figure size 432x288 with 0 Axes>"
      ]
     },
     "metadata": {},
     "output_type": "display_data"
    }
   ],
   "source": []
  },
  {
   "cell_type": "code",
   "execution_count": null,
   "metadata": {},
   "outputs": [],
   "source": []
  },
  {
   "cell_type": "code",
   "execution_count": null,
   "metadata": {},
   "outputs": [],
   "source": []
  }
 ],
 "metadata": {
  "kernelspec": {
   "display_name": "HSCC",
   "language": "python",
   "name": "hscc"
  },
  "language_info": {
   "codemirror_mode": {
    "name": "ipython",
    "version": 3
   },
   "file_extension": ".py",
   "mimetype": "text/x-python",
   "name": "python",
   "nbconvert_exporter": "python",
   "pygments_lexer": "ipython3",
   "version": "3.6.9"
  }
 },
 "nbformat": 4,
 "nbformat_minor": 2
}
